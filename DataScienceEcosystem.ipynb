{
 "cells": [
  {
   "cell_type": "markdown",
   "id": "84396b0a-0533-4cf7-8e7e-1605bc837ee7",
   "metadata": {},
   "source": [
    "# Data Science Tools and Ecosystems"
   ]
  },
  {
   "cell_type": "markdown",
   "id": "7f2b71a1-1c35-4473-a627-f9b82daa503e",
   "metadata": {},
   "source": [
    "In this notebook, Data Science Tools and Ecosystem are summarized."
   ]
  },
  {
   "cell_type": "markdown",
   "id": "ed398f16-a7b9-4e9a-a423-cc220be68354",
   "metadata": {},
   "source": [
    "__Objectives:__\n",
    "- List popular languages for Data Science\n",
    "- List commonly used libraries for Data Science\n",
    "- List Data Science Tools\n",
    "- Run a couple of arithmetic operations"
   ]
  },
  {
   "cell_type": "markdown",
   "id": "ed675d02-faa1-49b3-80c3-5fd4e9b8a3a5",
   "metadata": {},
   "source": [
    "## Author\n",
    "Marco Borria"
   ]
  },
  {
   "cell_type": "markdown",
   "id": "3f1b0944-2bcf-4eb8-a288-d256f2d2b1cf",
   "metadata": {},
   "source": [
    "Some of the popular languages Data Scientists use are:"
   ]
  },
  {
   "cell_type": "markdown",
   "id": "2669f320-f9d1-472d-839e-9bc39e3f4fac",
   "metadata": {},
   "source": [
    "1. Python\n",
    "2. R\n",
    "3. C++"
   ]
  },
  {
   "cell_type": "markdown",
   "id": "4d5d05c9-bfba-4e76-850c-dc9bf8423a4f",
   "metadata": {},
   "source": [
    "Some of the commonly used libraries used by Data Scientists include:"
   ]
  },
  {
   "cell_type": "markdown",
   "id": "98a5c503-34d0-48ad-97e2-888fd048a227",
   "metadata": {},
   "source": [
    "1. NumPy\n",
    "2. SciPy\n",
    "3. Matplotlib"
   ]
  },
  {
   "cell_type": "markdown",
   "id": "7145ced9-eb30-438f-8b52-69f38847a387",
   "metadata": {},
   "source": [
    "|Data Science Tools|\n",
    "|------------------|\n",
    "|Jupyter Notebooks|\n",
    "|Anaconda|\n",
    "|R Studio|\n",
    "|Spyder|"
   ]
  },
  {
   "cell_type": "markdown",
   "id": "1b82413b-897b-441e-b470-94fc28da4ff6",
   "metadata": {
    "tags": []
   },
   "source": [
    "### Below are a few examples of evaluating arithmetic expressions in Python"
   ]
  },
  {
   "cell_type": "code",
   "execution_count": 1,
   "id": "792acdfb-c7d6-4c4d-b6f5-f716cf9fc8b8",
   "metadata": {},
   "outputs": [
    {
     "data": {
      "text/plain": [
       "17"
      ]
     },
     "execution_count": 1,
     "metadata": {},
     "output_type": "execute_result"
    }
   ],
   "source": [
    "# This a simple arithmetic expression to mutiply then add integers\n",
    "(3*4)+5"
   ]
  },
  {
   "cell_type": "code",
   "execution_count": 2,
   "id": "ff9b119b-071a-4b31-a40f-8f35408b5430",
   "metadata": {},
   "outputs": [
    {
     "data": {
      "text/plain": [
       "3.3333333333333335"
      ]
     },
     "execution_count": 2,
     "metadata": {},
     "output_type": "execute_result"
    }
   ],
   "source": [
    "# This will convert 200 minutes to hours by diving by 60\n",
    "200/60"
   ]
  },
  {
   "cell_type": "code",
   "execution_count": null,
   "id": "589a06c3-d5e6-4a1a-8140-667ed0f2550d",
   "metadata": {},
   "outputs": [],
   "source": []
  }
 ],
 "metadata": {
  "kernelspec": {
   "display_name": "Python 3 (ipykernel)",
   "language": "python",
   "name": "python3"
  },
  "language_info": {
   "codemirror_mode": {
    "name": "ipython",
    "version": 3
   },
   "file_extension": ".py",
   "mimetype": "text/x-python",
   "name": "python",
   "nbconvert_exporter": "python",
   "pygments_lexer": "ipython3",
   "version": "3.11.5"
  }
 },
 "nbformat": 4,
 "nbformat_minor": 5
}
